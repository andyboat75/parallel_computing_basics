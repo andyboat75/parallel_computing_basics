{
 "cells": [
  {
   "cell_type": "code",
   "execution_count": 1,
   "id": "incorrect-david",
   "metadata": {},
   "outputs": [],
   "source": [
    "import math\n",
    "\n",
    "import numpy as np\n",
    "import argparse\n",
    "import time\n",
    "from multiprocessing import Pool, TimeoutError"
   ]
  },
  {
   "cell_type": "code",
   "execution_count": 2,
   "id": "divided-volume",
   "metadata": {},
   "outputs": [],
   "source": [
    "def compute_patch(task):\n",
    "    xmin, xmax, ymin, ymax, pxwidth, pyheight = task\n",
    "    \n",
    "    zabs_max = 10\n",
    "    c = complex(-0.1,0.65)\n",
    "    nit_max = 1000\n",
    "    \n",
    "    xwidth = xmax-xmin\n",
    "    yheight = ymax - ymin\n",
    "    \n",
    "    julia_patch = np.zeros((pxwidth, pyheight))\n",
    "    for ix in range(pxwidth):\n",
    "        for iy in range(pyheight):\n",
    "            nit = 0\n",
    "            \n",
    "            z = complex(ix/pxwidth*xwidth + xmin,\n",
    "                       iy/pyheight*yheight + ymin)\n",
    "            \n",
    "            while abs(z) <= zabs_max and nit < nit_max:\n",
    "                z = z**2 + c \n",
    "                nit += 1\n",
    "            ratio = nit/nit_max\n",
    "            julia_patch[ix,iy] = ratio\n",
    "    \n",
    "    return julia_patch"
   ]
  },
  {
   "cell_type": "code",
   "execution_count": 6,
   "id": "intended-fourth",
   "metadata": {},
   "outputs": [],
   "source": [
    "def create_tasks(ymax, ymin, scaled_y, num_y_patches,\n",
    "                xmax, xmin, scaled_x, num_x_patches,\n",
    "                patch, size):\n",
    "    \n",
    "    tasks = list()\n",
    "    pymax = ymax\n",
    "    pymin = ymax -scaled_y\n",
    "    \n",
    "    for cidx in range(num_y_patches):\n",
    "        pxmin = xmin\n",
    "        pxmax = xmax + scaled_x\n",
    "        ypsize = size - (num_y_patches-1)*patch if (cidx+1 == num_y_patches) else patch\n",
    "        for ridx in range(num_x_patches):\n",
    "            xpsize = size-(num_x_patches-1)*patch if (ridx+1 == num_x_patches) else patch\n",
    "            tasks.append((pxmin,pxmax,pymin,pymax,xpsize,ypsize))\n",
    "            pxmin = pxmax\n",
    "            pxmax = xmax if (ridx+2 == num_x_patches) else (pxmax + scaled_x)\n",
    "        pymax = pymin\n",
    "        pymin = ymin if (cidx+2==num_y_patches) else(pymin-scaled_y)\n",
    "        \n",
    "    return tasks"
   ]
  },
  {
   "cell_type": "code",
   "execution_count": 7,
   "id": "brief-jewel",
   "metadata": {},
   "outputs": [],
   "source": [
    "def compute_julia_in_parallel(size, xmin, xmax, ymin, ymax, patch,nprocs):\n",
    "    pool = Pool(processes=nprocs)\n",
    "    \n",
    "    xwidth = xmax-xmin\n",
    "    yheight = ymax - ymin\n",
    "    \n",
    "    #size of patches\n",
    "    scaled_x = (xwidth/size)*patch\n",
    "    scaled_y = (yheight/size)*patch\n",
    "    # number of patches\n",
    "    num_x_patches = math.floor(xwidth/scaled_x) + 1\n",
    "    num_y_pathces = math.floor(yheight/scaled_y) + 1\n",
    "    \n",
    "    task_list = create_tasks(ymax, ymin, scaled_y, num_y_pathces,\n",
    "                            xmax, xmin, scaled_x, num_x_patches,\n",
    "                            patch, size)\n",
    "    \n",
    "    completed_patches = pool.map(compute_patch, task_list, chunksize=1)\n",
    "    pool.close()\n",
    "    pool.join()\n",
    "    \n",
    "    row_patches = []\n",
    "    for row in range(num_x_patches, num_x_patches*num_y_pathces+1, num_x_patches):\n",
    "        row_patch = np.concatenate(completed_patches[row-num_x_patches:row], axis=0)\n",
    "        row_patches.append(row_patch)\n",
    "        \n",
    "    image = np.concatenate(list(row_patches[::-1]), axis=1)\n",
    "    \n",
    "    return image"
   ]
  },
  {
   "cell_type": "code",
   "execution_count": 9,
   "id": "transparent-offering",
   "metadata": {},
   "outputs": [
    {
     "data": {
      "image/png": "[encoded data removed]",
      "text/plain": [
       "<Figure size 432x288 with 1 Axes>"
      ]
     },
     "metadata": {
      "needs_background": "light"
     },
     "output_type": "display_data"
    }
   ],
   "source": [
    "p = compute_julia_in_parallel(size=500,\n",
    "                              xmin=-1.5,\n",
    "                              xmax = 1.5,\n",
    "                              ymin = -1.5,\n",
    "                              ymax = 1.5,\n",
    "                              patch=20,\n",
    "                              nprocs=6\n",
    "                             )\n",
    "\n",
    "import matplotlib.pyplot as plt\n",
    "import matplotlib.cm as cm\n",
    "fig,ax = plt.subplots()\n",
    "ax.imshow(p, interpolation='nearest', cmap=plt.get_cmap(\"hot\"))\n",
    "plt.show()"
   ]
  },
  {
   "cell_type": "code",
   "execution_count": null,
   "id": "every-sapphire",
   "metadata": {},
   "outputs": [],
   "source": []
  }
 ],
 "metadata": {
  "kernelspec": {
   "display_name": "Python 3",
   "language": "python",
   "name": "python3"
  },
  "language_info": {
   "codemirror_mode": {
    "name": "ipython",
    "version": 3
   },
   "file_extension": ".py",
   "mimetype": "text/x-python",
   "name": "python",
   "nbconvert_exporter": "python",
   "pygments_lexer": "ipython3",
   "version": "3.8.5"
  },
  "varInspector": {
   "cols": {
    "lenName": 16,
    "lenType": 16,
    "lenVar": 40
   },
   "kernels_config": {
    "python": {
     "delete_cmd_postfix": "",
     "delete_cmd_prefix": "del ",
     "library": "var_list.py",
     "varRefreshCmd": "print(var_dic_list())"
    },
    "r": {
     "delete_cmd_postfix": ") ",
     "delete_cmd_prefix": "rm(",
     "library": "var_list.r",
     "varRefreshCmd": "cat(var_dic_list()) "
    }
   },
   "types_to_exclude": [
    "module",
    "function",
    "builtin_function_or_method",
    "instance",
    "_Feature"
   ],
   "window_display": false
  }
 },
 "nbformat": 4,
 "nbformat_minor": 5
}
