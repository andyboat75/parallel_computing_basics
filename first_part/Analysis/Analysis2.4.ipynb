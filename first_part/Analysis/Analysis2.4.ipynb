{
 "cells": [
  {
   "cell_type": "code",
   "execution_count": 3,
   "id": "worst-european",
   "metadata": {},
   "outputs": [],
   "source": [
    "import matplotlib.pyplot as plt\n",
    "import pandas as pd"
   ]
  },
  {
   "cell_type": "code",
   "execution_count": 4,
   "id": "geographic-image",
   "metadata": {},
   "outputs": [
    {
     "data": {
      "text/html": [
       "<div>\n",
       "<style scoped>\n",
       "    .dataframe tbody tr th:only-of-type {\n",
       "        vertical-align: middle;\n",
       "    }\n",
       "\n",
       "    .dataframe tbody tr th {\n",
       "        vertical-align: top;\n",
       "    }\n",
       "\n",
       "    .dataframe thead th {\n",
       "        text-align: right;\n",
       "    }\n",
       "</style>\n",
       "<table border=\"1\" class=\"dataframe\">\n",
       "  <thead>\n",
       "    <tr style=\"text-align: right;\">\n",
       "      <th></th>\n",
       "      <th>size</th>\n",
       "      <th>n_patches</th>\n",
       "      <th>nprocs</th>\n",
       "      <th>runtime</th>\n",
       "    </tr>\n",
       "  </thead>\n",
       "  <tbody>\n",
       "    <tr>\n",
       "      <th>0</th>\n",
       "      <td>800</td>\n",
       "      <td>1</td>\n",
       "      <td>16</td>\n",
       "      <td>18.105635</td>\n",
       "    </tr>\n",
       "    <tr>\n",
       "      <th>1</th>\n",
       "      <td>800</td>\n",
       "      <td>1</td>\n",
       "      <td>16</td>\n",
       "      <td>18.109572</td>\n",
       "    </tr>\n",
       "    <tr>\n",
       "      <th>2</th>\n",
       "      <td>800</td>\n",
       "      <td>1</td>\n",
       "      <td>16</td>\n",
       "      <td>18.136805</td>\n",
       "    </tr>\n",
       "    <tr>\n",
       "      <th>3</th>\n",
       "      <td>800</td>\n",
       "      <td>2</td>\n",
       "      <td>16</td>\n",
       "      <td>4.726716</td>\n",
       "    </tr>\n",
       "    <tr>\n",
       "      <th>4</th>\n",
       "      <td>800</td>\n",
       "      <td>2</td>\n",
       "      <td>16</td>\n",
       "      <td>4.643660</td>\n",
       "    </tr>\n",
       "    <tr>\n",
       "      <th>...</th>\n",
       "      <td>...</td>\n",
       "      <td>...</td>\n",
       "      <td>...</td>\n",
       "      <td>...</td>\n",
       "    </tr>\n",
       "    <tr>\n",
       "      <th>85</th>\n",
       "      <td>800</td>\n",
       "      <td>29</td>\n",
       "      <td>16</td>\n",
       "      <td>1.038498</td>\n",
       "    </tr>\n",
       "    <tr>\n",
       "      <th>86</th>\n",
       "      <td>800</td>\n",
       "      <td>29</td>\n",
       "      <td>16</td>\n",
       "      <td>1.038200</td>\n",
       "    </tr>\n",
       "    <tr>\n",
       "      <th>87</th>\n",
       "      <td>800</td>\n",
       "      <td>30</td>\n",
       "      <td>16</td>\n",
       "      <td>1.038147</td>\n",
       "    </tr>\n",
       "    <tr>\n",
       "      <th>88</th>\n",
       "      <td>800</td>\n",
       "      <td>30</td>\n",
       "      <td>16</td>\n",
       "      <td>1.037448</td>\n",
       "    </tr>\n",
       "    <tr>\n",
       "      <th>89</th>\n",
       "      <td>800</td>\n",
       "      <td>30</td>\n",
       "      <td>16</td>\n",
       "      <td>1.038213</td>\n",
       "    </tr>\n",
       "  </tbody>\n",
       "</table>\n",
       "<p>90 rows × 4 columns</p>\n",
       "</div>"
      ],
      "text/plain": [
       "    size  n_patches  nprocs    runtime\n",
       "0    800          1      16  18.105635\n",
       "1    800          1      16  18.109572\n",
       "2    800          1      16  18.136805\n",
       "3    800          2      16   4.726716\n",
       "4    800          2      16   4.643660\n",
       "..   ...        ...     ...        ...\n",
       "85   800         29      16   1.038498\n",
       "86   800         29      16   1.038200\n",
       "87   800         30      16   1.038147\n",
       "88   800         30      16   1.037448\n",
       "89   800         30      16   1.038213\n",
       "\n",
       "[90 rows x 4 columns]"
      ]
     },
     "execution_count": 4,
     "metadata": {},
     "output_type": "execute_result"
    }
   ],
   "source": [
    "df = pd.read_csv('output_24.csv')\n",
    "df"
   ]
  },
  {
   "cell_type": "code",
   "execution_count": 10,
   "id": "typical-father",
   "metadata": {},
   "outputs": [
    {
     "name": "stdout",
     "output_type": "stream",
     "text": [
      "    size   p  patch  mean_runtime(s)\n",
      "0    800  16      1        18.117337\n",
      "1    800  16      2         4.668975\n",
      "2    800  16      3         2.230116\n",
      "3    800  16      4         1.542472\n",
      "4    800  16      5         1.255630\n",
      "5    800  16      6         1.152728\n",
      "6    800  16      7         1.048376\n",
      "7    800  16      8         1.081912\n",
      "8    800  16      9         1.076364\n",
      "9    800  16     10         1.009167\n",
      "10   800  16     11         0.939475\n",
      "11   800  16     12         0.972861\n",
      "12   800  16     13         0.973875\n",
      "13   800  16     14         0.973715\n",
      "14   800  16     15         0.971881\n",
      "15   800  16     16         1.005263\n",
      "16   800  16     17         0.940152\n",
      "17   800  16     18         0.971858\n",
      "18   800  16     19         0.938615\n",
      "19   800  16     20         1.004800\n",
      "20   800  16     21         0.937735\n",
      "21   800  16     22         1.038185\n",
      "22   800  16     23         1.038178\n",
      "23   800  16     24         0.971328\n",
      "24   800  16     25         0.971660\n",
      "25   800  16     26         1.037941\n",
      "26   800  16     27         1.004797\n",
      "27   800  16     28         1.037341\n",
      "28   800  16     29         1.037807\n",
      "29   800  16     30         1.037936\n"
     ]
    }
   ],
   "source": [
    "meantime = {\n",
    "    'size': [],\n",
    "    'p': [],\n",
    "        'patch': [],\n",
    "    'mean_runtime(s)': [],\n",
    "}\n",
    "for i in range(0, len(df), 3):\n",
    "    meantime['size'].append(df.loc[i, 'size'])\n",
    "    meantime['patch'].append(df.loc[i, 'n_patches'])\n",
    "    meantime['p'].append(df.loc[i, 'nprocs'])\n",
    "    meantime['mean_runtime(s)'].append((df.loc[i:i + 2, 'runtime'].sum()) / 3)\n",
    "mean_rt_df = pd.DataFrame(meantime)\n",
    "print(mean_rt_df)"
   ]
  },
  {
   "cell_type": "code",
   "execution_count": 6,
   "id": "cheap-brush",
   "metadata": {},
   "outputs": [],
   "source": [
    "x = mean_rt_df['patch']\n",
    "y = mean_rt_df['mean_runtime']"
   ]
  },
  {
   "cell_type": "code",
   "execution_count": 8,
   "id": "biblical-navigator",
   "metadata": {},
   "outputs": [
    {
     "data": {
      "image/png": "[encoded data removed]",
      "text/plain": [
       "<Figure size 432x288 with 1 Axes>"
      ]
     },
     "metadata": {
      "needs_background": "light"
     },
     "output_type": "display_data"
    }
   ],
   "source": [
    "plt.bar(x, y)\n",
    "# plt.xscale('log')\n",
    "plt.show()"
   ]
  },
  {
   "cell_type": "code",
   "execution_count": null,
   "id": "computational-group",
   "metadata": {},
   "outputs": [],
   "source": []
  }
 ],
 "metadata": {
  "kernelspec": {
   "display_name": "Python 3",
   "language": "python",
   "name": "python3"
  },
  "language_info": {
   "codemirror_mode": {
    "name": "ipython",
    "version": 3
   },
   "file_extension": ".py",
   "mimetype": "text/x-python",
   "name": "python",
   "nbconvert_exporter": "python",
   "pygments_lexer": "ipython3",
   "version": "3.8.5"
  },
  "varInspector": {
   "cols": {
    "lenName": 16,
    "lenType": 16,
    "lenVar": 40
   },
   "kernels_config": {
    "python": {
     "delete_cmd_postfix": "",
     "delete_cmd_prefix": "del ",
     "library": "var_list.py",
     "varRefreshCmd": "print(var_dic_list())"
    },
    "r": {
     "delete_cmd_postfix": ") ",
     "delete_cmd_prefix": "rm(",
     "library": "var_list.r",
     "varRefreshCmd": "cat(var_dic_list()) "
    }
   },
   "types_to_exclude": [
    "module",
    "function",
    "builtin_function_or_method",
    "instance",
    "_Feature"
   ],
   "window_display": false
  }
 },
 "nbformat": 4,
 "nbformat_minor": 5
}
