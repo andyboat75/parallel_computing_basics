{
 "cells": [
  {
   "cell_type": "code",
   "execution_count": 1,
   "id": "elder-convergence",
   "metadata": {},
   "outputs": [],
   "source": [
    "import math\n",
    "\n",
    "import numpy as np\n",
    "import argparse\n",
    "import time\n",
    "from multiprocessing import Pool, TimeoutError"
   ]
  },
  {
   "cell_type": "code",
   "execution_count": 2,
   "id": "elder-damage",
   "metadata": {},
   "outputs": [],
   "source": [
    "def compute_julia_set_sequential(*args):\n",
    "    try:\n",
    "        if type(args) == tuple and len(args[0]) == 6:\n",
    "            xmin, xmax, ymin, ymax, im_width, im_height = args[0]\n",
    "        else:\n",
    "            raise TypeError(f\"compute_julia_set_sequential takes 6 arguments but {len(args)} were given\")\n",
    "\n",
    "    except:\n",
    "        pass\n",
    "    zabs_max = 10\n",
    "    c = complex(-0.1, 0.65)\n",
    "    nit_max = 1000\n",
    "\n",
    "    xwidth = xmax - xmin\n",
    "    yheight = ymax - ymin\n",
    "\n",
    "    julia = np.zeros((im_width, im_height))\n",
    "    for ix in range(im_width):\n",
    "        for iy in range(im_height):\n",
    "            nit = 0\n",
    "            # Map pixel position to a point in the complex plane\n",
    "            z = complex(ix / im_width * xwidth + xmin,\n",
    "                        iy / im_height * yheight + ymin)\n",
    "            # Do the iterations\n",
    "            while abs(z) <= zabs_max and nit < nit_max:\n",
    "                z = z ** 2 + c\n",
    "                nit += 1\n",
    "            ratio = nit / nit_max\n",
    "            julia[ix, iy] = ratio\n",
    "\n",
    "    return julia"
   ]
  },
  {
   "cell_type": "code",
   "execution_count": 9,
   "id": "surprised-police",
   "metadata": {},
   "outputs": [],
   "source": [
    "def task_generator(ymax, ymin, scaled_y, num_y_patches, xmax, xmin, scaled_x, num_x_patches, patch, size):\n",
    "    tasks = list()\n",
    "    patch_ymax = ymax\n",
    "    patch_ymin = ymax - scaled_y\n",
    "    for col in range(num_y_patches):\n",
    "        patch_xmin = xmin\n",
    "        patch_xmax = xmin + scaled_x\n",
    "        if col + 1 == num_y_patches:\n",
    "            ypatch_size = size - (num_y_patches - 1) * patch\n",
    "        else:\n",
    "            ypatch_size = patch\n",
    "\n",
    "        for ridx in range(num_x_patches):\n",
    "            if ridx + 1 == num_x_patches:\n",
    "                xpatch_size = size - (num_x_patches - 1) * patch\n",
    "            else:\n",
    "                xpatch_size = patch\n",
    "            tasks.append((patch_xmin, patch_xmax, patch_ymin, patch_ymax, xpatch_size, ypatch_size))\n",
    "            patch_xmin = patch_xmax\n",
    "            patch_xmax = xmax if (ridx + 2 == num_x_patches) else (patch_xmax + scaled_x)\n",
    "\n",
    "        patch_ymax = patch_ymin\n",
    "        patch_ymin = ymin if (col + 2 == num_y_patches) else (patch_ymin - scaled_y)\n",
    "\n",
    "    return tasks"
   ]
  },
  {
   "cell_type": "code",
   "execution_count": 10,
   "id": "hundred-glory",
   "metadata": {},
   "outputs": [],
   "source": [
    "def compute_julia_in_parallel(size, xmin, xmax, ymin, ymax, patch, nprocs):\n",
    "    pool = Pool(processes=nprocs)\n",
    "\n",
    "    im_width = xmax - xmin\n",
    "    im_height = ymax - ymin\n",
    "\n",
    "    # patch size\n",
    "    scaled_x = (im_width / size) * patch\n",
    "    scaled_y = (im_height / size) * patch\n",
    "\n",
    "    # patch number\n",
    "    num_row_patches = math.ceil(im_width / scaled_x)\n",
    "    num_col_patches = math.ceil(im_height / scaled_y)\n",
    "\n",
    "    # task generator\n",
    "    tasks = task_generator(ymax, ymin, scaled_y, num_col_patches,\n",
    "                           xmax, xmin, scaled_x, num_row_patches,\n",
    "                           patch, size)\n",
    "#     print(tasks)\n",
    "    compute_patches = pool.map(compute_julia_set_sequential, tasks, chunksize=1)\n",
    "    pool.close()\n",
    "    pool.join()\n",
    "    \n",
    "    row_patches = [\n",
    "        np.concatenate(compute_patches[row-num_row_patches:row], axis=0)\n",
    "        for row in range(num_row_patches,num_row_patches*num_col_patches+1, num_row_patches)\n",
    "    ]\n",
    "    julia_img = np.concatenate(list(row_patches[::-1]), axis=1)\n",
    "#     julia_img = compute_julia_set_sequential(xmin, xmax, ymin, ymax, size, size)\n",
    "\n",
    "    return julia_img"
   ]
  },
  {
   "cell_type": "code",
   "execution_count": 11,
   "id": "rocky-stadium",
   "metadata": {},
   "outputs": [
    {
     "data": {
      "image/png": "[encoded data removed]",
      "text/plain": [
       "<Figure size 432x288 with 1 Axes>"
      ]
     },
     "metadata": {
      "needs_background": "light"
     },
     "output_type": "display_data"
    }
   ],
   "source": [
    "p = compute_julia_in_parallel(\n",
    "    size = 500,\n",
    "    xmin = -1.5,\n",
    "    ymin = -1.5,\n",
    "    xmax=1.5,\n",
    "    ymax=1.5,\n",
    "    patch=20,\n",
    "    nprocs=6)\n",
    "\n",
    "\n",
    "\n",
    "import matplotlib.pyplot as plt\n",
    "import matplotlib.cm as cm\n",
    "fig, ax = plt.subplots()\n",
    "ax.imshow(p, interpolation='nearest', cmap=plt.get_cmap(\"hot\"))\n",
    "plt.show()"
   ]
  },
  {
   "cell_type": "code",
   "execution_count": null,
   "id": "strange-sodium",
   "metadata": {},
   "outputs": [],
   "source": []
  }
 ],
 "metadata": {
  "kernelspec": {
   "display_name": "Python 3",
   "language": "python",
   "name": "python3"
  },
  "language_info": {
   "codemirror_mode": {
    "name": "ipython",
    "version": 3
   },
   "file_extension": ".py",
   "mimetype": "text/x-python",
   "name": "python",
   "nbconvert_exporter": "python",
   "pygments_lexer": "ipython3",
   "version": "3.8.5"
  },
  "varInspector": {
   "cols": {
    "lenName": 16,
    "lenType": 16,
    "lenVar": 40
   },
   "kernels_config": {
    "python": {
     "delete_cmd_postfix": "",
     "delete_cmd_prefix": "del ",
     "library": "var_list.py",
     "varRefreshCmd": "print(var_dic_list())"
    },
    "r": {
     "delete_cmd_postfix": ") ",
     "delete_cmd_prefix": "rm(",
     "library": "var_list.r",
     "varRefreshCmd": "cat(var_dic_list()) "
    }
   },
   "types_to_exclude": [
    "module",
    "function",
    "builtin_function_or_method",
    "instance",
    "_Feature"
   ],
   "window_display": false
  }
 },
 "nbformat": 4,
 "nbformat_minor": 5
}
